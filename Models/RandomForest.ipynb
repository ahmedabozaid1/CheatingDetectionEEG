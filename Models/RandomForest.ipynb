{
  "cells": [
    {
      "cell_type": "code",
      "execution_count": null,
      "metadata": {
        "colab": {
          "base_uri": "https://localhost:8080/",
          "height": 424
        },
        "id": "B6gtrvPAS38m",
        "outputId": "9f10a9c3-7185-40a5-b33c-a7c49faa857f"
      },
      "outputs": [
        {
          "data": {
            "text/html": [
              "\n",
              "  <div id=\"df-a95a8ec6-2b3a-4bf8-a6dd-877e0be17bad\">\n",
              "    <div class=\"colab-df-container\">\n",
              "      <div>\n",
              "<style scoped>\n",
              "    .dataframe tbody tr th:only-of-type {\n",
              "        vertical-align: middle;\n",
              "    }\n",
              "\n",
              "    .dataframe tbody tr th {\n",
              "        vertical-align: top;\n",
              "    }\n",
              "\n",
              "    .dataframe thead th {\n",
              "        text-align: right;\n",
              "    }\n",
              "</style>\n",
              "<table border=\"1\" class=\"dataframe\">\n",
              "  <thead>\n",
              "    <tr style=\"text-align: right;\">\n",
              "      <th></th>\n",
              "      <th>Attention</th>\n",
              "      <th>Meditation</th>\n",
              "      <th>Delta</th>\n",
              "      <th>Theta</th>\n",
              "      <th>Low Alpha</th>\n",
              "      <th>High Alpha</th>\n",
              "      <th>Low Beta</th>\n",
              "      <th>High Beta</th>\n",
              "      <th>Low Gamma</th>\n",
              "      <th>High Gamma</th>\n",
              "      <th>Raw EEG</th>\n",
              "      <th>default</th>\n",
              "    </tr>\n",
              "  </thead>\n",
              "  <tbody>\n",
              "    <tr>\n",
              "      <th>0</th>\n",
              "      <td>43</td>\n",
              "      <td>37</td>\n",
              "      <td>357440</td>\n",
              "      <td>42732</td>\n",
              "      <td>5268</td>\n",
              "      <td>2079</td>\n",
              "      <td>3025</td>\n",
              "      <td>3914</td>\n",
              "      <td>876</td>\n",
              "      <td>1361</td>\n",
              "      <td>218</td>\n",
              "      <td>Cheating</td>\n",
              "    </tr>\n",
              "    <tr>\n",
              "      <th>1</th>\n",
              "      <td>57</td>\n",
              "      <td>37</td>\n",
              "      <td>839320</td>\n",
              "      <td>176706</td>\n",
              "      <td>2556</td>\n",
              "      <td>4520</td>\n",
              "      <td>37386</td>\n",
              "      <td>30445</td>\n",
              "      <td>40852</td>\n",
              "      <td>16973</td>\n",
              "      <td>74</td>\n",
              "      <td>Cheating</td>\n",
              "    </tr>\n",
              "    <tr>\n",
              "      <th>2</th>\n",
              "      <td>69</td>\n",
              "      <td>56</td>\n",
              "      <td>164652</td>\n",
              "      <td>45361</td>\n",
              "      <td>10721</td>\n",
              "      <td>35913</td>\n",
              "      <td>19317</td>\n",
              "      <td>19875</td>\n",
              "      <td>29101</td>\n",
              "      <td>13804</td>\n",
              "      <td>-4</td>\n",
              "      <td>Cheating</td>\n",
              "    </tr>\n",
              "    <tr>\n",
              "      <th>3</th>\n",
              "      <td>81</td>\n",
              "      <td>66</td>\n",
              "      <td>117237</td>\n",
              "      <td>18435</td>\n",
              "      <td>11521</td>\n",
              "      <td>3365</td>\n",
              "      <td>7298</td>\n",
              "      <td>7657</td>\n",
              "      <td>10977</td>\n",
              "      <td>27075</td>\n",
              "      <td>26</td>\n",
              "      <td>Cheating</td>\n",
              "    </tr>\n",
              "    <tr>\n",
              "      <th>4</th>\n",
              "      <td>78</td>\n",
              "      <td>78</td>\n",
              "      <td>84716</td>\n",
              "      <td>7332</td>\n",
              "      <td>3740</td>\n",
              "      <td>22837</td>\n",
              "      <td>10646</td>\n",
              "      <td>18890</td>\n",
              "      <td>20207</td>\n",
              "      <td>27605</td>\n",
              "      <td>26</td>\n",
              "      <td>Cheating</td>\n",
              "    </tr>\n",
              "    <tr>\n",
              "      <th>...</th>\n",
              "      <td>...</td>\n",
              "      <td>...</td>\n",
              "      <td>...</td>\n",
              "      <td>...</td>\n",
              "      <td>...</td>\n",
              "      <td>...</td>\n",
              "      <td>...</td>\n",
              "      <td>...</td>\n",
              "      <td>...</td>\n",
              "      <td>...</td>\n",
              "      <td>...</td>\n",
              "      <td>...</td>\n",
              "    </tr>\n",
              "    <tr>\n",
              "      <th>5749</th>\n",
              "      <td>53</td>\n",
              "      <td>69</td>\n",
              "      <td>21978</td>\n",
              "      <td>7831</td>\n",
              "      <td>14721</td>\n",
              "      <td>6722</td>\n",
              "      <td>10711</td>\n",
              "      <td>2658</td>\n",
              "      <td>1725</td>\n",
              "      <td>26591</td>\n",
              "      <td>-6</td>\n",
              "      <td>NotCheating</td>\n",
              "    </tr>\n",
              "    <tr>\n",
              "      <th>5750</th>\n",
              "      <td>64</td>\n",
              "      <td>74</td>\n",
              "      <td>5267</td>\n",
              "      <td>8380</td>\n",
              "      <td>11755</td>\n",
              "      <td>8098</td>\n",
              "      <td>16927</td>\n",
              "      <td>6978</td>\n",
              "      <td>1781</td>\n",
              "      <td>33589</td>\n",
              "      <td>57</td>\n",
              "      <td>NotCheating</td>\n",
              "    </tr>\n",
              "    <tr>\n",
              "      <th>5751</th>\n",
              "      <td>70</td>\n",
              "      <td>53</td>\n",
              "      <td>27355</td>\n",
              "      <td>18782</td>\n",
              "      <td>3150</td>\n",
              "      <td>8484</td>\n",
              "      <td>4309</td>\n",
              "      <td>5754</td>\n",
              "      <td>2153</td>\n",
              "      <td>21796</td>\n",
              "      <td>37</td>\n",
              "      <td>NotCheating</td>\n",
              "    </tr>\n",
              "    <tr>\n",
              "      <th>5752</th>\n",
              "      <td>66</td>\n",
              "      <td>50</td>\n",
              "      <td>38956</td>\n",
              "      <td>15075</td>\n",
              "      <td>19941</td>\n",
              "      <td>13569</td>\n",
              "      <td>6818</td>\n",
              "      <td>2903</td>\n",
              "      <td>2253</td>\n",
              "      <td>18917</td>\n",
              "      <td>34</td>\n",
              "      <td>NotCheating</td>\n",
              "    </tr>\n",
              "    <tr>\n",
              "      <th>5753</th>\n",
              "      <td>64</td>\n",
              "      <td>51</td>\n",
              "      <td>194530</td>\n",
              "      <td>49948</td>\n",
              "      <td>15570</td>\n",
              "      <td>2148</td>\n",
              "      <td>5054</td>\n",
              "      <td>5335</td>\n",
              "      <td>2891</td>\n",
              "      <td>3258</td>\n",
              "      <td>74</td>\n",
              "      <td>NotCheating</td>\n",
              "    </tr>\n",
              "  </tbody>\n",
              "</table>\n",
              "<p>5754 rows × 12 columns</p>\n",
              "</div>\n",
              "      <button class=\"colab-df-convert\" onclick=\"convertToInteractive('df-a95a8ec6-2b3a-4bf8-a6dd-877e0be17bad')\"\n",
              "              title=\"Convert this dataframe to an interactive table.\"\n",
              "              style=\"display:none;\">\n",
              "        \n",
              "  <svg xmlns=\"http://www.w3.org/2000/svg\" height=\"24px\"viewBox=\"0 0 24 24\"\n",
              "       width=\"24px\">\n",
              "    <path d=\"M0 0h24v24H0V0z\" fill=\"none\"/>\n",
              "    <path d=\"M18.56 5.44l.94 2.06.94-2.06 2.06-.94-2.06-.94-.94-2.06-.94 2.06-2.06.94zm-11 1L8.5 8.5l.94-2.06 2.06-.94-2.06-.94L8.5 2.5l-.94 2.06-2.06.94zm10 10l.94 2.06.94-2.06 2.06-.94-2.06-.94-.94-2.06-.94 2.06-2.06.94z\"/><path d=\"M17.41 7.96l-1.37-1.37c-.4-.4-.92-.59-1.43-.59-.52 0-1.04.2-1.43.59L10.3 9.45l-7.72 7.72c-.78.78-.78 2.05 0 2.83L4 21.41c.39.39.9.59 1.41.59.51 0 1.02-.2 1.41-.59l7.78-7.78 2.81-2.81c.8-.78.8-2.07 0-2.86zM5.41 20L4 18.59l7.72-7.72 1.47 1.35L5.41 20z\"/>\n",
              "  </svg>\n",
              "      </button>\n",
              "      \n",
              "  <style>\n",
              "    .colab-df-container {\n",
              "      display:flex;\n",
              "      flex-wrap:wrap;\n",
              "      gap: 12px;\n",
              "    }\n",
              "\n",
              "    .colab-df-convert {\n",
              "      background-color: #E8F0FE;\n",
              "      border: none;\n",
              "      border-radius: 50%;\n",
              "      cursor: pointer;\n",
              "      display: none;\n",
              "      fill: #1967D2;\n",
              "      height: 32px;\n",
              "      padding: 0 0 0 0;\n",
              "      width: 32px;\n",
              "    }\n",
              "\n",
              "    .colab-df-convert:hover {\n",
              "      background-color: #E2EBFA;\n",
              "      box-shadow: 0px 1px 2px rgba(60, 64, 67, 0.3), 0px 1px 3px 1px rgba(60, 64, 67, 0.15);\n",
              "      fill: #174EA6;\n",
              "    }\n",
              "\n",
              "    [theme=dark] .colab-df-convert {\n",
              "      background-color: #3B4455;\n",
              "      fill: #D2E3FC;\n",
              "    }\n",
              "\n",
              "    [theme=dark] .colab-df-convert:hover {\n",
              "      background-color: #434B5C;\n",
              "      box-shadow: 0px 1px 3px 1px rgba(0, 0, 0, 0.15);\n",
              "      filter: drop-shadow(0px 1px 2px rgba(0, 0, 0, 0.3));\n",
              "      fill: #FFFFFF;\n",
              "    }\n",
              "  </style>\n",
              "\n",
              "      <script>\n",
              "        const buttonEl =\n",
              "          document.querySelector('#df-a95a8ec6-2b3a-4bf8-a6dd-877e0be17bad button.colab-df-convert');\n",
              "        buttonEl.style.display =\n",
              "          google.colab.kernel.accessAllowed ? 'block' : 'none';\n",
              "\n",
              "        async function convertToInteractive(key) {\n",
              "          const element = document.querySelector('#df-a95a8ec6-2b3a-4bf8-a6dd-877e0be17bad');\n",
              "          const dataTable =\n",
              "            await google.colab.kernel.invokeFunction('convertToInteractive',\n",
              "                                                     [key], {});\n",
              "          if (!dataTable) return;\n",
              "\n",
              "          const docLinkHtml = 'Like what you see? Visit the ' +\n",
              "            '<a target=\"_blank\" href=https://colab.research.google.com/notebooks/data_table.ipynb>data table notebook</a>'\n",
              "            + ' to learn more about interactive tables.';\n",
              "          element.innerHTML = '';\n",
              "          dataTable['output_type'] = 'display_data';\n",
              "          await google.colab.output.renderOutput(dataTable, element);\n",
              "          const docLink = document.createElement('div');\n",
              "          docLink.innerHTML = docLinkHtml;\n",
              "          element.appendChild(docLink);\n",
              "        }\n",
              "      </script>\n",
              "    </div>\n",
              "  </div>\n",
              "  "
            ],
            "text/plain": [
              "      Attention   Meditation   Delta   Theta  Low Alpha  High Alpha  Low Beta  \\\n",
              "0             43          37  357440   42732       5268        2079      3025   \n",
              "1             57          37  839320  176706       2556        4520     37386   \n",
              "2             69          56  164652   45361      10721       35913     19317   \n",
              "3             81          66  117237   18435      11521        3365      7298   \n",
              "4             78          78   84716    7332       3740       22837     10646   \n",
              "...          ...         ...     ...     ...        ...         ...       ...   \n",
              "5749          53          69   21978    7831      14721        6722     10711   \n",
              "5750          64          74    5267    8380      11755        8098     16927   \n",
              "5751          70          53   27355   18782       3150        8484      4309   \n",
              "5752          66          50   38956   15075      19941       13569      6818   \n",
              "5753          64          51  194530   49948      15570        2148      5054   \n",
              "\n",
              "      High Beta   Low Gamma  High Gamma  Raw EEG      default  \n",
              "0           3914        876        1361      218     Cheating  \n",
              "1          30445      40852       16973       74     Cheating  \n",
              "2          19875      29101       13804       -4     Cheating  \n",
              "3           7657      10977       27075       26     Cheating  \n",
              "4          18890      20207       27605       26     Cheating  \n",
              "...          ...        ...         ...      ...          ...  \n",
              "5749        2658       1725       26591       -6  NotCheating  \n",
              "5750        6978       1781       33589       57  NotCheating  \n",
              "5751        5754       2153       21796       37  NotCheating  \n",
              "5752        2903       2253       18917       34  NotCheating  \n",
              "5753        5335       2891        3258       74  NotCheating  \n",
              "\n",
              "[5754 rows x 12 columns]"
            ]
          },
          "metadata": {},
          "output_type": "display_data"
        }
      ],
      "source": [
        "#Import scikit-learn dataset library\n",
        "from sklearn import datasets\n",
        "import pandas as pd\n",
        "#Load dataset\n",
        "eeg = pd.read_csv('../dataBinary.csv')\n",
        "eeg.shape\n",
        "display(eeg)\n"
      ]
    },
    {
      "cell_type": "code",
      "execution_count": null,
      "metadata": {
        "colab": {
          "base_uri": "https://localhost:8080/"
        },
        "id": "xzeXTUrFTHYR",
        "outputId": "0bf8d150-ae5e-4f84-fb47-30f44464ee3f"
      },
      "outputs": [
        {
          "name": "stdout",
          "output_type": "stream",
          "text": [
            "0          Cheating\n",
            "1          Cheating\n",
            "2          Cheating\n",
            "3          Cheating\n",
            "4          Cheating\n",
            "           ...     \n",
            "5749    NotCheating\n",
            "5750    NotCheating\n",
            "5751    NotCheating\n",
            "5752    NotCheating\n",
            "5753    NotCheating\n",
            "Name: default, Length: 5754, dtype: object\n"
          ]
        }
      ],
      "source": [
        "# print the label species(setosa, versicolor,virginica)\n",
        "print(eeg.default)\n",
        "\n",
        "# print the names of the four features\n"
      ]
    },
    {
      "cell_type": "code",
      "execution_count": null,
      "metadata": {
        "colab": {
          "base_uri": "https://localhost:8080/"
        },
        "id": "WwkHI7HtTL21",
        "outputId": "f17b56e1-a874-476f-bf2b-e2e630bb4861"
      },
      "outputs": [
        {
          "name": "stdout",
          "output_type": "stream",
          "text": [
            "      Attention   Meditation   Delta   Theta  Low Alpha  High Alpha  Low Beta  \\\n",
            "0             43          37  357440   42732       5268        2079      3025   \n",
            "1             57          37  839320  176706       2556        4520     37386   \n",
            "2             69          56  164652   45361      10721       35913     19317   \n",
            "3             81          66  117237   18435      11521        3365      7298   \n",
            "4             78          78   84716    7332       3740       22837     10646   \n",
            "...          ...         ...     ...     ...        ...         ...       ...   \n",
            "5749          53          69   21978    7831      14721        6722     10711   \n",
            "5750          64          74    5267    8380      11755        8098     16927   \n",
            "5751          70          53   27355   18782       3150        8484      4309   \n",
            "5752          66          50   38956   15075      19941       13569      6818   \n",
            "5753          64          51  194530   49948      15570        2148      5054   \n",
            "\n",
            "      High Beta   Low Gamma  High Gamma  Raw EEG      default  \n",
            "0           3914        876        1361      218     Cheating  \n",
            "1          30445      40852       16973       74     Cheating  \n",
            "2          19875      29101       13804       -4     Cheating  \n",
            "3           7657      10977       27075       26     Cheating  \n",
            "4          18890      20207       27605       26     Cheating  \n",
            "...          ...        ...         ...      ...          ...  \n",
            "5749        2658       1725       26591       -6  NotCheating  \n",
            "5750        6978       1781       33589       57  NotCheating  \n",
            "5751        5754       2153       21796       37  NotCheating  \n",
            "5752        2903       2253       18917       34  NotCheating  \n",
            "5753        5335       2891        3258       74  NotCheating  \n",
            "\n",
            "[5754 rows x 12 columns]\n"
          ]
        }
      ],
      "source": [
        "# Creating a DataFrame \n",
        "import pandas as pd\n",
        "data=eeg\n",
        "data.head()\n",
        "print(data)"
      ]
    },
    {
      "cell_type": "code",
      "execution_count": null,
      "metadata": {
        "id": "RQuwHJduTNrQ"
      },
      "outputs": [],
      "source": [
        "# Import train_test_split function\n",
        "from sklearn.model_selection import train_test_split\n",
        "\n",
        "\n",
        "X = data.iloc[:, 0:11]\n",
        "y = data[['default']].values\n",
        "\n",
        "# Split dataset into training set and test set\n",
        "X_train, X_test, y_train, y_test = train_test_split(X, y, test_size=0.3) # 70% training and 30% test"
      ]
    },
    {
      "cell_type": "code",
      "execution_count": null,
      "metadata": {
        "colab": {
          "base_uri": "https://localhost:8080/",
          "height": 386
        },
        "id": "IOqCBnoYTRWv",
        "outputId": "ed22e698-89a5-4142-d237-37ca63ff4ae3"
      },
      "outputs": [
        {
          "name": "stdout",
          "output_type": "stream",
          "text": [
            "RandomForestClassifier(n_estimators=150)\n"
          ]
        },
        {
          "name": "stderr",
          "output_type": "stream",
          "text": [
            "/usr/local/lib/python3.7/dist-packages/ipykernel_launcher.py:10: DataConversionWarning: A column-vector y was passed when a 1d array was expected. Please change the shape of y to (n_samples,), for example using ravel().\n",
            "  # Remove the CWD from sys.path while we load stuff.\n"
          ]
        },
        {
          "name": "stdout",
          "output_type": "stream",
          "text": [
            "Accuracy: 0.7411696583671106\n",
            "(n_estimators=100, *, criterion='gini', max_depth=None, min_samples_split=2, min_samples_leaf=1, min_weight_fraction_leaf=0.0, max_features='auto', max_leaf_nodes=None, min_impurity_decrease=0.0, bootstrap=True, oob_score=False, n_jobs=None, random_state=None, verbose=0, warm_start=False, class_weight=None, ccp_alpha=0.0, max_samples=None)\n"
          ]
        },
        {
          "data": {
            "image/png": "[encoded data removed]",
            "text/plain": [
              "<Figure size 432x288 with 2 Axes>"
            ]
          },
          "metadata": {
            "needs_background": "light"
          },
          "output_type": "display_data"
        }
      ],
      "source": [
        "#Import Random Forest Model\n",
        "from sklearn.ensemble import RandomForestClassifier\n",
        "import inspect\n",
        "import sklearn\n",
        "\n",
        "#Create a Gaussian Classifier\n",
        "clf=RandomForestClassifier(n_estimators=150)\n",
        "print(clf)\n",
        "#Train the model using the training sets y_pred=clf.predict(X_test)\n",
        "clf.fit(X_train,y_train)\n",
        "\n",
        "y_pred=clf.predict(X_test)\n",
        "\n",
        "from sklearn import metrics\n",
        "import matplotlib.pyplot as plt\n",
        "from sklearn.metrics import confusion_matrix, ConfusionMatrixDisplay\n",
        "\n",
        "print(\"Accuracy:\",metrics.accuracy_score(y_test, y_pred))\n",
        "hyperparams = inspect.signature(clf.__init__)\n",
        "print(hyperparams) # Do something with them here\n",
        "cm = confusion_matrix(y_test, y_pred, labels=clf.classes_)\n",
        "disp = ConfusionMatrixDisplay(confusion_matrix=cm, display_labels=clf.classes_)\n",
        "disp.plot()\n",
        "plt.show()"
      ]
    },
    {
      "cell_type": "code",
      "execution_count": null,
      "metadata": {
        "colab": {
          "base_uri": "https://localhost:8080/"
        },
        "id": "rpdKUQJMV8em",
        "outputId": "ebf7f5de-c900-4efa-c29f-0ddee2e4292c"
      },
      "outputs": [
        {
          "data": {
            "text/plain": [
              "RandomForestClassifier(min_samples_split=3, n_jobs=1)"
            ]
          },
          "execution_count": 123,
          "metadata": {},
          "output_type": "execute_result"
        }
      ],
      "source": [
        "RandomForestClassifier(bootstrap=True, class_weight=None, criterion='gini',\n",
        "            max_depth=None, max_features='auto', max_leaf_nodes=None,\n",
        "            min_impurity_decrease=0.0, \n",
        "            min_samples_leaf=1, min_samples_split=3,\n",
        "            min_weight_fraction_leaf=0.0, n_estimators=100, n_jobs=1,\n",
        "            oob_score=False, random_state=None, verbose=0,\n",
        "            warm_start=False)"
      ]
    },
    {
      "cell_type": "code",
      "execution_count": null,
      "metadata": {
        "colab": {
          "base_uri": "https://localhost:8080/"
        },
        "id": "-L75NUy8WjnG",
        "outputId": "ae11b24f-1f1c-40da-c1e0-420f9f1f5fd5"
      },
      "outputs": [
        {
          "data": {
            "text/plain": [
              "Attention     0.109924\n",
              "Raw EEG       0.100016\n",
              "Theta         0.098181\n",
              "Low Gamma     0.095132\n",
              "High Alpha    0.093039\n",
              "High Gamma    0.092463\n",
              "Low Beta      0.088246\n",
              "Low Alpha     0.083139\n",
              "High Beta     0.082056\n",
              "default       0.078991\n",
              "Meditation    0.078813\n",
              "dtype: float64"
            ]
          },
          "execution_count": 124,
          "metadata": {},
          "output_type": "execute_result"
        }
      ],
      "source": [
        "import pandas as pd\n",
        "\n",
        "X = data.iloc[:, 0:11].values\n",
        "y = data[['default']].values\n",
        "labels = ['Attention', 'Meditation', 'Theta', 'Low Alpha','High Alpha','Low Beta','High Beta','Low Gamma','High Gamma','Raw EEG','default']\n",
        "feature_imp = pd.Series(clf.feature_importances_,index=labels ).sort_values(ascending=False)\n",
        "feature_imp"
      ]
    },
    {
      "cell_type": "code",
      "execution_count": null,
      "metadata": {
        "colab": {
          "base_uri": "https://localhost:8080/",
          "height": 312
        },
        "id": "WrmSXJ-iZacF",
        "outputId": "31c8fab3-1d14-4c4e-c7f2-983af7b428e3"
      },
      "outputs": [
        {
          "name": "stderr",
          "output_type": "stream",
          "text": [
            "No handles with labels found to put in legend.\n"
          ]
        },
        {
          "data": {
            "image/png": "[encoded data removed]",
            "text/plain": [
              "<Figure size 432x288 with 1 Axes>"
            ]
          },
          "metadata": {
            "needs_background": "light"
          },
          "output_type": "display_data"
        }
      ],
      "source": [
        "import matplotlib.pyplot as plt\n",
        "import seaborn as sns\n",
        "%matplotlib inline\n",
        "# Creating a bar plot\n",
        "sns.barplot(x=feature_imp, y=feature_imp.index)\n",
        "# Add labels to your graph\n",
        "plt.xlabel('Feature Importance Score')\n",
        "plt.ylabel('Features')\n",
        "plt.title(\"Visualizing Important Features\")\n",
        "plt.legend()\n",
        "plt.show()"
      ]
    },
    {
      "cell_type": "code",
      "execution_count": null,
      "metadata": {
        "id": "YlAcfILtZm-l"
      },
      "outputs": [],
      "source": [
        "# Import train_test_split function\n",
        "from sklearn.model_selection import train_test_split\n",
        "# Split dataset into features and labels\n",
        "X=data.iloc[:, 0:10].values  # Removed feature \"sepal length\"\n",
        "#labels =data.iloc['Attention', 'Theta', 'Low Alpha','High Alpha','Low Beta','High Beta','Low Gamma','High Gamma','Raw EEG']\n",
        "#cols =['Attention', 'Theta', 'Low Alpha','High Alpha','Low Beta','High Beta','Low Gamma','High Gamma','Raw EEG']\n",
        "#print(data)\n",
        "#X = data[cols]\n",
        "y=data['default']                                       \n",
        "# Split dataset into training set and test set\n",
        "X_train, X_test, y_train, y_test = train_test_split(X, y, test_size=0.70, random_state=5) # 70% training and 30% test"
      ]
    },
    {
      "cell_type": "code",
      "execution_count": null,
      "metadata": {
        "id": "sr3eksL9aA6M"
      },
      "outputs": [],
      "source": [
        "from sklearn.ensemble import RandomForestClassifier\n",
        "\n",
        "#Create a Gaussian Classifier\n",
        "clf=RandomForestClassifier(n_estimators=100)\n",
        "\n",
        "#Train the model using the training sets y_pred=clf.predict(X_test)\n",
        "clf.fit(X_train,y_train)\n",
        "\n",
        "# prediction on test set\n",
        "y_pred=clf.predict(X_test)\n",
        "\n",
        "#Import scikit-learn metrics module for accuracy calculation\n",
        "from sklearn import metrics\n",
        "# Model Accuracy, how often is the classifier correct?\n",
        "print(\"Accuracy:\",metrics.accuracy_score(y_test, y_pred))"
      ]
    }
  ],
  "metadata": {
    "colab": {
      "collapsed_sections": [],
      "name": "SkLearn.ipynb",
      "provenance": []
    },
    "kernelspec": {
      "display_name": "Python 3.9.11 ('c')",
      "language": "python",
      "name": "python3"
    },
    "language_info": {
      "name": "python",
      "version": "3.9.11"
    },
    "vscode": {
      "interpreter": {
        "hash": "f4fde8716f61b351882d7f365bec8f6a96a3d4b9c157d8111a467310cd72fc67"
      }
    }
  },
  "nbformat": 4,
  "nbformat_minor": 0
}
